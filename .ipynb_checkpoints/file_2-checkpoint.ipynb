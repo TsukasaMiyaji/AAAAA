{
 "cells": [
  {
   "cell_type": "code",
   "execution_count": 2,
   "id": "e5676e6e",
   "metadata": {},
   "outputs": [],
   "source": [
    "import pandas as pd\n",
    "import cmath"
   ]
  },
  {
   "cell_type": "code",
   "execution_count": 5,
   "id": "ae5d91d7",
   "metadata": {},
   "outputs": [
    {
     "data": {
      "text/plain": [
       "(120.77251342917394+0j)"
      ]
     },
     "execution_count": 5,
     "metadata": {},
     "output_type": "execute_result"
    }
   ],
   "source": [
    "cmath.sqrt(14586)"
   ]
  }
 ],
 "metadata": {
  "kernelspec": {
   "display_name": "Python 3 (ipykernel)",
   "language": "python",
   "name": "python3"
  },
  "language_info": {
   "codemirror_mode": {
    "name": "ipython",
    "version": 3
   },
   "file_extension": ".py",
   "mimetype": "text/x-python",
   "name": "python",
   "nbconvert_exporter": "python",
   "pygments_lexer": "ipython3",
   "version": "3.10.11"
  }
 },
 "nbformat": 4,
 "nbformat_minor": 5
}
